{
 "cells": [
  {
   "cell_type": "markdown",
   "metadata": {},
   "source": [
    "# Lab 8 Exercise 2\n",
    "\n",
    "## การประกาศสมาชิกในคลาส (fields)\n"
   ]
  },
  {
   "cell_type": "markdown",
   "metadata": {},
   "source": [
    "\n",
    "\n",
    "1. สร้าง console application project\n",
    "\n",
    "```\n",
    "    dotnet new console --name Lab08_Ex02\n",
    "```\n"
   ]
  },
  {
   "cell_type": "markdown",
   "metadata": {},
   "source": [
    "\n",
    "2. เปลี่ยน code ให้เป็นดังต่อไปนี้ (ตัวเลขข้างหน้า คือหมายเลขบรรทัด ไว้สำหรับอ้างอิง)\n",
    "\n",
    "> ```csharp\n",
    ">  1. Person p = new Person();\n",
    ">  2. p.name = \"Rambo\";\n",
    ">  3. p.id = \"1987\";\n",
    ">  4. p.income = 2500;\n",
    ">  5. System.Console.WriteLine($\"Type of p is {p.GetType()}\");\n",
    ">  6. System.Console.WriteLine($\"p.name = {p.name}\\ttype = {p.name.GetType()}\");\n",
    ">  7. System.Console.WriteLine($\"p.id = {p.id}\\ttype = {p.id.GetType()}\");\n",
    ">  8. System.Console.WriteLine($\"p.income = {p.income}\\ttype = {p.income.GetType()}\");\n",
    ">  9. \n",
    "> 10. class Person\n",
    "> 11. {\n",
    "> 12.     string name;\n",
    "> 13.     string id;\n",
    "> 14.     int income;\n",
    "> 15. }\n",
    "> ```\n"
   ]
  },
  {
   "cell_type": "markdown",
   "metadata": {},
   "source": [
    "โค้ดที่แก้ไข"
   ]
  },
  {
   "cell_type": "code",
   "execution_count": null,
   "metadata": {},
   "outputs": [],
   "source": [
    "using System;\n",
    "\n",
    "class Program\n",
    "\n",
    "{\n",
    "  \n",
    "   static void Main()\n",
    "  \n",
    "   {\n",
    " \n",
    "       // สร้าง Object ของ Person โดยใช้ Constructor ที่กำหนดค่าเริ่มต้น\n",
    " \n",
    "       Person p = new Person(\"Rambo\", 1987, 2500);\n",
    "       \n",
    "       // แสดงผลค่าของ object p\n",
    "       Console.WriteLine($\"Type of p is {p.GetType()}\");\n",
    "       Console.WriteLine($\"p.name = {p.name}\\ttype = {p.name.GetType()}\");\n",
    "       Console.WriteLine($\"p.id = {p.id}\\ttype = {p.id.GetType()}\");\n",
    "       Console.WriteLine($\"p.income = {p.income}\\ttype = {p.income.GetType()}\");\n",
    "   }\n",
    "}\n",
    "\n",
    "// คลาส Person ที่แก้ไข\n",
    "class Person\n",
    "{\n",
    "   // ใช้ public property แทน private field\n",
    "   public string name { get; set; }\n",
    "   public int id { get; set; }\n",
    "   public int income { get; set; }\n",
    "\n",
    "   // Constructor ที่กำหนดค่าเริ่มต้นให้ name, id, และ income\n",
    "   public Person(string name, int id, int income)\n",
    "   {\n",
    "       this.name = name;\n",
    "       this.id = id;\n",
    "       this.income = income;\n",
    "   }\n",
    "}"
   ]
  },
  {
   "cell_type": "markdown",
   "metadata": {},
   "source": [
    "\n",
    "3. Build project โดยการใช้คำสั่ง\n",
    "\n",
    "```\n",
    "    dotnet build  Lab08_Ex02\n",
    "```\n"
   ]
  },
  {
   "cell_type": "markdown",
   "metadata": {},
   "source": [
    "\n",
    "4. บันทึกผลที่ได้จากการรันคำสั่งในข้อ 3\n"
   ]
  },
  {
   "cell_type": "markdown",
   "metadata": {},
   "source": [
    "*คำตอบ*"
   ]
  },
  {
   "cell_type": "markdown",
   "metadata": {},
   "source": [
    "Restore complete (0.5s)\n",
    "  Lab08_Ex02 failed with 9 error(s) and 5 warning(s) (2.8s)\n",
    "    /Users/macbook/Documents/GitHub/KMITL_OOP/Lab08-CSharp-Class-Part-I/Lab08_Ex02/Program.cs(12,12): warning CS8618: Non-nullable field 'name' must contain a non-null value when exiting constructor. Consider adding the 'required' modifie\n",
    "r or declaring the field as nullable.                                                                                                                                                                                                             /Users/macbook/Documents/GitHub/KMITL_OOP/Lab08-CSharp-Class-Part-I/Lab08_Ex02/Program.cs(13,12): warning CS8618: Non-nullable field 'id' must contain a non-null value when exiting constructor. Consider adding the 'required' modifier \n",
    "or declaring the field as nullable.                                                                                                                                                                                                               /Users/macbook/Documents/GitHub/KMITL_OOP/Lab08-CSharp-Class-Part-I/Lab08_Ex02/Program.cs(2,3): error CS0122: 'Person.name' is inaccessible due to its protection level\n",
    "    /Users/macbook/Documents/GitHub/KMITL_OOP/Lab08-CSharp-Class-Part-I/Lab08_Ex02/Program.cs(3,3): error CS0122: 'Person.id' is inaccessible due to its protection level\n",
    "    /Users/macbook/Documents/GitHub/KMITL_OOP/Lab08-CSharp-Class-Part-I/Lab08_Ex02/Program.cs(4,3): error CS0122: 'Person.income' is inaccessible due to its protection level\n",
    "    /Users/macbook/Documents/GitHub/KMITL_OOP/Lab08-CSharp-Class-Part-I/Lab08_Ex02/Program.cs(6,40): error CS0122: 'Person.name' is inaccessible due to its protection level\n",
    "    /Users/macbook/Documents/GitHub/KMITL_OOP/Lab08-CSharp-Class-Part-I/Lab08_Ex02/Program.cs(6,57): error CS0122: 'Person.name' is inaccessible due to its protection level\n",
    "    /Users/macbook/Documents/GitHub/KMITL_OOP/Lab08-CSharp-Class-Part-I/Lab08_Ex02/Program.cs(7,38): error CS0122: 'Person.id' is inaccessible due to its protection level\n",
    "    /Users/macbook/Documents/GitHub/KMITL_OOP/Lab08-CSharp-Class-Part-I/Lab08_Ex02/Program.cs(7,53): error CS0122: 'Person.id' is inaccessible due to its protection level\n",
    "    /Users/macbook/Documents/GitHub/KMITL_OOP/Lab08-CSharp-Class-Part-I/Lab08_Ex02/Program.cs(8,42): error CS0122: 'Person.income' is inaccessible due to its protection level\n",
    "    /Users/macbook/Documents/GitHub/KMITL_OOP/Lab08-CSharp-Class-Part-I/Lab08_Ex02/Program.cs(8,61): error CS0122: 'Person.income' is inaccessible due to its protection level\n",
    "    /Users/macbook/Documents/GitHub/KMITL_OOP/Lab08-CSharp-Class-Part-I/Lab08_Ex02/Program.cs(13,12): warning CS0169: The field 'Person.id' is never used\n",
    "    /Users/macbook/Documents/GitHub/KMITL_OOP/Lab08-CSharp-Class-Part-I/Lab08_Ex02/Program.cs(12,12): warning CS0169: The field 'Person.name' is never used\n",
    "    /Users/macbook/Documents/GitHub/KMITL_OOP/Lab08-CSharp-Class-Part-I/Lab08_Ex02/Program.cs(14,9): warning CS0169: The field 'Person.income' is never used\n",
    "\n",
    "Build failed with 9 error(s) and 5 warning(s) in 3.8s\n"
   ]
  },
  {
   "cell_type": "markdown",
   "metadata": {},
   "source": [
    "คำตอบหลังการแก่ไข"
   ]
  },
  {
   "cell_type": "markdown",
   "metadata": {},
   "source": [
    "Restore complete (0.5s)\n",
    "  Lab08_Ex02 succeeded (0.8s) → Lab08_Ex02/bin/Debug/net9.0/Lab08_Ex02.dll\n",
    "\n",
    "Build succeeded in 1.8s"
   ]
  },
  {
   "cell_type": "markdown",
   "metadata": {},
   "source": [
    "\n",
    "5. Run project โดยการใช้คำสั่ง\n",
    "\n",
    "```\n",
    "    dotnet run --project Lab08_Ex02\n",
    "```\n"
   ]
  },
  {
   "cell_type": "markdown",
   "metadata": {},
   "source": [
    "\n",
    "6. บันทึกผลที่ได้จากการรันคำสั่งในข้อ 5\n",
    "\n"
   ]
  },
  {
   "cell_type": "markdown",
   "metadata": {},
   "source": [
    "*คำตอบ*"
   ]
  },
  {
   "cell_type": "markdown",
   "metadata": {},
   "source": [
    "dotnet run --project Lab08_Ex02\n",
    "\n",
    "Type of p is Person\n",
    "p.name = Rambo  type = System.String\n",
    "p.id = 1987     type = System.Int32\n",
    "p.income = 2500 type = System.Int32"
   ]
  },
  {
   "cell_type": "markdown",
   "metadata": {},
   "source": [
    "\n",
    "7. อธิบายสิ่งที่พบในการทดลอง\n",
    "\n"
   ]
  },
  {
   "cell_type": "markdown",
   "metadata": {},
   "source": [
    "*คำตอบ*"
   ]
  },
  {
   "cell_type": "markdown",
   "metadata": {},
   "source": [
    "### 1 Access Modifier ไม่ถูก (Error: CS0122)\n",
    "\n",
    "ตัวแปร name, id, และ income ในคลาส Person ไม่มี access modifier\n",
    "\n",
    "ทำให้ถูกกำหนดเป็น private โดยอัตโนมัติ และไม่สามารถเข้าถึงจากภายนอกคลาสได้\n",
    "\n",
    "ส่งผลให้โค้ด p.name = \"Rambo\"; และอื่น ๆ ใช้งานไม่ได้\n",
    "\n",
    "จึงแก้ไขโดยการ > เพิ่ม public ให้ตัวแปร หรือใช้ property { get; set; }\n",
    "\n",
    "### 2️ ชนิดข้อมูล (id เป็น string แทน int) (Error: CS0029)\n",
    "\n",
    "ในโค้ด p.id = \"1987\"; กำหนดค่าของ id เป็น string\n",
    "\n",
    "แต่ id ควรเป็น int เพื่อรองรับตัวเลข\n",
    "\n",
    "ทำให้เกิดข้อผิดพลาด \"cannot implicitly convert type 'string' to 'int'\"\n",
    "\n",
    "จึงแก้ไขเป็น > เปลี่ยน id จาก string เป็น int หรือใช้ int.Parse(\"1987\") หากต้องการแปลง\n",
    "\n",
    "### 3️ ไม่มี Constructor ที่ไม่มีพารามิเตอร์ (Error: CS7036)\n",
    "\n",
    "เมื่อสร้าง object Person p = new Person();\n",
    "\n",
    "แต่คลาส Person ไม่มี default constructor (Person())\n",
    "\n",
    "ทำให้เกิดข้อผิดพลาด \"No argument given that corresponds to the required parameter\"\n",
    "\n",
    "จึงแก้ไขเป็น > เพิ่ม constructor ที่รองรับพารามิเตอร์ หรือสร้าง default constructor\n",
    "\n",
    "### 4️ Non-nullable Field ไม่มีค่าเริ่มต้น (Warning: CS8618)\n",
    "\n",
    "ค่าของ name และ id เป็น string แต่ไม่มีค่าเริ่มต้น\n",
    "\n",
    "ทำให้เกิดคำเตือน \"must contain a non-null value when exiting constructor\"\n",
    "\n",
    "จึงแก้ไขเป็น > กำหนดค่าเริ่มต้นให้ name = string.Empty;"
   ]
  },
  {
   "cell_type": "markdown",
   "metadata": {},
   "source": [
    "8. นำ code ในข้อ 2 มารันบน polyglot notebook  โดยใส่ใน  code cell ด้านล่างนี้\n"
   ]
  },
  {
   "cell_type": "code",
   "execution_count": null,
   "metadata": {
    "dotnet_interactive": {
     "language": "csharp"
    },
    "polyglot_notebook": {
     "kernelName": "csharp"
    }
   },
   "outputs": [
    {
     "ename": "Error",
     "evalue": "(3,3): error CS0122: 'Person.name' is inaccessible due to its protection level\n(4,3): error CS0122: 'Person.id' is inaccessible due to its protection level\n(5,3): error CS0122: 'Person.income' is inaccessible due to its protection level\n(7,40): error CS0122: 'Person.name' is inaccessible due to its protection level\n(7,57): error CS0122: 'Person.name' is inaccessible due to its protection level\n(8,38): error CS0122: 'Person.id' is inaccessible due to its protection level\n(8,53): error CS0122: 'Person.id' is inaccessible due to its protection level\n(9,42): error CS0122: 'Person.income' is inaccessible due to its protection level\n(9,61): error CS0122: 'Person.income' is inaccessible due to its protection level",
     "output_type": "error",
     "traceback": [
      "(3,3): error CS0122: 'Person.name' is inaccessible due to its protection level\n",
      "(4,3): error CS0122: 'Person.id' is inaccessible due to its protection level\n",
      "(5,3): error CS0122: 'Person.income' is inaccessible due to its protection level\n",
      "(7,40): error CS0122: 'Person.name' is inaccessible due to its protection level\n",
      "(7,57): error CS0122: 'Person.name' is inaccessible due to its protection level\n",
      "(8,38): error CS0122: 'Person.id' is inaccessible due to its protection level\n",
      "(8,53): error CS0122: 'Person.id' is inaccessible due to its protection level\n",
      "(9,42): error CS0122: 'Person.income' is inaccessible due to its protection level\n",
      "(9,61): error CS0122: 'Person.income' is inaccessible due to its protection level"
     ]
    }
   ],
   "source": [
    "// พื้นที่เขียน code ตามข้อ 2\n",
    "Person p = new Person();\n",
    "p.name = \"Rambo\";\n",
    "p.id = \"1987\";\n",
    "p.income = 2500;\n",
    "System.Console.WriteLine($\"Type of p is {p.GetType()}\");\n",
    "System.Console.WriteLine($\"p.name = {p.name}\\ttype = {p.name.GetType()}\");\n",
    "System.Console.WriteLine($\"p.id = {p.id}\\ttype = {p.id.GetType()}\");\n",
    "System.Console.WriteLine($\"p.income = {p.income}\\ttype = {p.income.GetType()}\");\n",
    " \n",
    "class Person\n",
    " {\n",
    "     string name;\n",
    "     string id;\n",
    "     int income;\n",
    " }"
   ]
  },
  {
   "cell_type": "markdown",
   "metadata": {},
   "source": [
    "8.1 ผลการรันเป็นอย่างไร\n",
    "\n"
   ]
  },
  {
   "cell_type": "markdown",
   "metadata": {},
   "source": [
    "*คำตอบ*"
   ]
  },
  {
   "cell_type": "markdown",
   "metadata": {},
   "source": [
    "Error: (3,3): error CS0122: 'Person.name' is inaccessible due to its protection level\n",
    "\n",
    "(4,3): error CS0122: 'Person.id' is inaccessible due to its protection level\n",
    "\n",
    "(5,3): error CS0122: 'Person.income' is inaccessible due to its protection level\n",
    "\n",
    "(7,40): error CS0122: 'Person.name' is inaccessible due to its protection level\n",
    "\n",
    "(7,57): error CS0122: 'Person.name' is inaccessible due to its protection level\n",
    "\n",
    "(8,38): error CS0122: 'Person.id' is inaccessible due to its protection level\n",
    "\n",
    "(8,53): error CS0122: 'Person.id' is inaccessible due to its protection level\n",
    "\n",
    "(9,42): error CS0122: 'Person.income' is inaccessible due to its protection level\n",
    "\n",
    "(9,61): error CS0122: 'Person.income' is inaccessible due to its protection level"
   ]
  },
  {
   "cell_type": "markdown",
   "metadata": {},
   "source": [
    "8.2 เหมือนหรือค่างจาก console application อย่างไร"
   ]
  },
  {
   "cell_type": "markdown",
   "metadata": {},
   "source": [
    "*คำตอบ*"
   ]
  },
  {
   "cell_type": "markdown",
   "metadata": {},
   "source": [
    "polyglot notebook ไม่มีการแจ้ง warning"
   ]
  },
  {
   "cell_type": "markdown",
   "metadata": {},
   "source": [
    "## คำถาม"
   ]
  },
  {
   "cell_type": "markdown",
   "metadata": {},
   "source": [
    "1. Field ในภาษา C# คืออะไร\n"
   ]
  },
  {
   "cell_type": "markdown",
   "metadata": {},
   "source": [
    "*คำตอบ*"
   ]
  },
  {
   "cell_type": "markdown",
   "metadata": {},
   "source": [
    "Field คือตัวแปรที่ประกาศภายใน Class\n",
    "\n",
    "เป็นตัวเก็บข้อมูลหรือสถานะของ Object\n",
    "\n",
    "มีอายุการใช้งานเท่ากับ Object ที่สร้างขึ้น"
   ]
  },
  {
   "cell_type": "markdown",
   "metadata": {},
   "source": [
    "2. Field มีหน้าที่อะไรใน class \n"
   ]
  },
  {
   "cell_type": "markdown",
   "metadata": {},
   "source": [
    "*คำตอบ*"
   ]
  },
  {
   "cell_type": "markdown",
   "metadata": {},
   "source": [
    "เก็บข้อมูลของ Object\n",
    "\n",
    "เก็บสถานะภายใน Class\n",
    "\n",
    "เป็นพื้นที่เก็บข้อมูลที่สามารถใช้ร่วมกันภายใน Class\n",
    "\n",
    "สนับสนุนการทำงานของ Methods ต่างๆ"
   ]
  },
  {
   "cell_type": "markdown",
   "metadata": {},
   "source": [
    "3. การประกาศ Field ทำได้อย่างไร ให้อธิบายรูปแบบการประกาศ field ในคลาส\n"
   ]
  },
  {
   "cell_type": "markdown",
   "metadata": {},
   "source": [
    "*คำตอบ*"
   ]
  },
  {
   "cell_type": "markdown",
   "metadata": {},
   "source": [
    "การประกาศ field ใน class\n",
    "\n",
    "1.เลือก Access Modifier\n",
    "\n",
    "public. private. protected. internal\n",
    "\n",
    "2.ระบุชนิดข้อมูล (Data Type)\n",
    "\n",
    "string. int. bool. custom type.\n",
    "\n",
    "3.ตั้งชื่อ Field\n",
    "\n",
    "ขึ้นต้นด้วยตัวอักษรพิมพ์เล็ก. ตั้งชื่อสื่อความหมาย\n",
    "\n",
    "(ประเภทของการประกาศ Field)\n",
    "\n",
    "Public Field: เข้าถึงได้จากทุกที่\n",
    "\n",
    "Private Field: เข้าถึงได้เฉพายใน Class\n",
    "\n",
    "Protected Field: เข้าถึงได้ใน Class และ Class ลูก\n",
    "\n",
    "Internal Field: เข้าถึงได้ภายใน Assembly เดียวกัน"
   ]
  },
  {
   "cell_type": "markdown",
   "metadata": {},
   "source": [
    "4. Field และ Variable แตกต่างกันอย่างไร\n"
   ]
  },
  {
   "cell_type": "markdown",
   "metadata": {},
   "source": [
    "Field:\n",
    "\n",
    "ประกาศภายใน Class มีอายุการใช้งานเท่ากับ Object สามารถกำหนด Access Modifier เก็บสถานะของ Object\n",
    "\n",
    "Variable:\n",
    "\n",
    "ประกาศภายใน Method มีอายุการใช้งานจำกัดภายใน Method ไม่สามารถกำหนด Access Modifier ใช้งานชั่วคราวภายใน Method"
   ]
  },
  {
   "cell_type": "markdown",
   "metadata": {},
   "source": [
    "5. เมื่อไหร่ควรใช้ Field และเมื่อไหร่ควรใช้ Variable"
   ]
  },
  {
   "cell_type": "markdown",
   "metadata": {},
   "source": [
    "*คำตอบ*"
   ]
  },
  {
   "cell_type": "markdown",
   "metadata": {},
   "source": [
    "Field ใช้เมื่อ:\n",
    "\n",
    "ต้องการเก็บข้อมูลที่ใช้ร่วมกันทั้ง Class ต้องการบันทึกสถานะของ Object ข้อมูลจำเป็นต้องเข้าถึงจาก Methods ต่างๆ ใน Class ต้องการควบคุมการเข้าถึงข้อมูล\n",
    "\n",
    "Variable ใช้เมื่อ:\n",
    "\n",
    "ต้องการใช้ข้อมูลชั่วคราวภายใน Method ไม่ต้องการให้ข้อมูลถูกเก็บไว้นอก Method คำนวณหรือประมวลผลชั่วคราว"
   ]
  },
  {
   "cell_type": "markdown",
   "metadata": {},
   "source": [
    "6. ในโปรแกรมการทดลองนี้ มี field หรือไม่ อยู่ในบรรทัดที่เท่าไหร่\n"
   ]
  },
  {
   "cell_type": "markdown",
   "metadata": {},
   "source": [
    "*คำตอบ*"
   ]
  },
  {
   "cell_type": "markdown",
   "metadata": {},
   "source": [
    "บรรทัดที่ 12-14\n",
    "\n",
    "string name;\n",
    "\n",
    "string id;\n",
    "\n",
    "int income;"
   ]
  },
  {
   "cell_type": "markdown",
   "metadata": {},
   "source": [
    "7. ผลจากการรันโปรแกรมใน Console Application และใน polyglot notebook เหมือนหรือแตกต่างกันอย่างไร"
   ]
  },
  {
   "cell_type": "markdown",
   "metadata": {},
   "source": [
    "*คำตอบ*"
   ]
  },
  {
   "cell_type": "markdown",
   "metadata": {},
   "source": [
    "Polyglot Notebook จะแสดงแค่ error แต่จะไม่แสดง warning ในรูปแบบที่เหมือนกับใน Terminal"
   ]
  }
 ],
 "metadata": {
  "kernelspec": {
   "display_name": ".NET (C#)",
   "language": "C#",
   "name": ".net-csharp"
  },
  "polyglot_notebook": {
   "kernelInfo": {
    "defaultKernelName": "csharp",
    "items": [
     {
      "aliases": [],
      "languageName": "csharp",
      "name": "csharp"
     }
    ]
   }
  }
 },
 "nbformat": 4,
 "nbformat_minor": 2
}
